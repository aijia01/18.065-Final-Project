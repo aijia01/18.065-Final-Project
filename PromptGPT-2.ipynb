{
  "cells": [
    {
      "cell_type": "markdown",
      "source": [
        "#18.065 Final Project \n",
        "aijia@mit.edu\n",
        "\n",
        "This PromptGPT-2 model notebook is used to train a GPT-2 model for text generation and text cleaning and prompt input."
      ],
      "metadata": {
        "id": "6yvFUuoIff3p"
      }
    },
    {
      "cell_type": "code",
      "execution_count": 1,
      "metadata": {
        "colab": {
          "base_uri": "https://localhost:8080/"
        },
        "id": "c2vGq5k6sEPB",
        "outputId": "a202dc7e-db07-402e-89e9-cd075a289900"
      },
      "outputs": [
        {
          "output_type": "stream",
          "name": "stdout",
          "text": [
            "Cloning into 'minGPT-TF'...\n",
            "remote: Enumerating objects: 81, done.\u001b[K\n",
            "remote: Counting objects: 100% (81/81), done.\u001b[K\n",
            "remote: Compressing objects: 100% (61/61), done.\u001b[K\n",
            "remote: Total 81 (delta 41), reused 42 (delta 17), pack-reused 0\u001b[K\n",
            "Unpacking objects: 100% (81/81), done.\n"
          ]
        }
      ],
      "source": [
        "!git clone https://github.com/kamalkraj/minGPT-TF.git"
      ]
    },
    {
      "cell_type": "code",
      "execution_count": 2,
      "metadata": {
        "colab": {
          "base_uri": "https://localhost:8080/"
        },
        "id": "xLaIP3ThsV4D",
        "outputId": "5a9ab99d-c257-4cba-f7c1-389ffbf54ffc"
      },
      "outputs": [
        {
          "output_type": "stream",
          "name": "stdout",
          "text": [
            "Collecting fastprogress==0.2.3\n",
            "  Downloading fastprogress-0.2.3-py3-none-any.whl (12 kB)\n",
            "Installing collected packages: fastprogress\n",
            "  Attempting uninstall: fastprogress\n",
            "    Found existing installation: fastprogress 1.0.2\n",
            "    Uninstalling fastprogress-1.0.2:\n",
            "      Successfully uninstalled fastprogress-1.0.2\n",
            "Successfully installed fastprogress-0.2.3\n"
          ]
        }
      ],
      "source": [
        "! pip install fastprogress==0.2.3"
      ]
    },
    {
      "cell_type": "code",
      "execution_count": 3,
      "metadata": {
        "id": "VgRpfV6ms652"
      },
      "outputs": [],
      "source": [
        "import os\n",
        "os.chdir('minGPT-TF')\n",
        "import math\n",
        "import numpy as np\n",
        "import tensorflow as tf\n",
        "from mingpt.model import GPT, GPTConfig"
      ]
    },
    {
      "cell_type": "markdown",
      "source": [
        "This is a character-wise sampling dataset from the text."
      ],
      "metadata": {
        "id": "wl-L-m0DgJAI"
      }
    },
    {
      "cell_type": "code",
      "execution_count": 4,
      "metadata": {
        "id": "vS1zBtijsyi7"
      },
      "outputs": [],
      "source": [
        "class CharDataset:\n",
        "\n",
        "    def __init__(self, data, block_size):\n",
        "        chars = sorted(list(set(data)))\n",
        "        data_size, vocab_size = len(data), len(chars)\n",
        "        print('data has %d characters, %d unique.' % (data_size, vocab_size))\n",
        "        \n",
        "        self.stoi = { ch:i for i,ch in enumerate(chars) }\n",
        "        self.itos = { i:ch for i,ch in enumerate(chars) }\n",
        "        self.block_size = block_size\n",
        "        self.vocab_size = vocab_size\n",
        "        self.data = data\n",
        "    \n",
        "    def __len__(self):\n",
        "        return math.ceil(len(self.data) / (self.block_size + 1))\n",
        "\n",
        "    def __iter__(self):\n",
        "        # we're actually going to \"cheat\" and pick a spot in the dataset at random\n",
        "        for _ in range(self.__len__()):\n",
        "            i = np.random.randint(0, len(self.data) - (self.block_size + 1))\n",
        "            chunk = self.data[i:i+self.block_size+1]\n",
        "            dix = [self.stoi[s] for s in chunk]\n",
        "            x = tf.convert_to_tensor(dix[:-1], dtype=tf.int32)\n",
        "            y = tf.convert_to_tensor(dix[1:], dtype=tf.int32)\n",
        "            yield x, y\n",
        "    \n",
        "    __call__ = __iter__"
      ]
    },
    {
      "cell_type": "code",
      "execution_count": 5,
      "metadata": {
        "id": "pY0MWXIbs0o1"
      },
      "outputs": [],
      "source": [
        "block_size = 128 "
      ]
    },
    {
      "cell_type": "markdown",
      "source": [
        "First, input *Grimms'Fairy Tales* with less stories as the training text."
      ],
      "metadata": {
        "id": "LjtPLJWigUwr"
      }
    },
    {
      "cell_type": "code",
      "execution_count": 6,
      "metadata": {
        "colab": {
          "base_uri": "https://localhost:8080/"
        },
        "id": "kGBxGetxHd8s",
        "outputId": "d64dc16b-4849-49ce-c5ff-325bfd719878"
      },
      "outputs": [
        {
          "output_type": "stream",
          "name": "stdout",
          "text": [
            "Downloading data from https://www.gutenberg.org/files/2591/2591-0.txt\n",
            "565248/560045 [==============================] - 1s 1us/step\n",
            "573440/560045 [==============================] - 1s 1us/step\n"
          ]
        }
      ],
      "source": [
        "import tensorflow as tf\n",
        "from tensorflow import keras\n",
        "path_to_file = tf.keras.utils.get_file('Grimm.txt', 'https://www.gutenberg.org/files/2591/2591-0.txt')"
      ]
    },
    {
      "cell_type": "code",
      "execution_count": 11,
      "metadata": {
        "colab": {
          "base_uri": "https://localhost:8080/"
        },
        "id": "dmESKrLxtTgk",
        "outputId": "6eaefdf4-d6e4-4188-f0f3-ce64e317bb5a"
      },
      "outputs": [
        {
          "output_type": "execute_result",
          "data": {
            "text/plain": [
              "521728"
            ]
          },
          "metadata": {},
          "execution_count": 11
        }
      ],
      "source": [
        "text = open(path_to_file, 'r').read()\n",
        "text.find('END')\n"
      ]
    },
    {
      "cell_type": "code",
      "execution_count": 20,
      "metadata": {
        "colab": {
          "base_uri": "https://localhost:8080/",
          "height": 157
        },
        "id": "oT2SxmLkRWIc",
        "outputId": "374dec73-292f-4f73-d83e-e55bc6f5de9d"
      },
      "outputs": [
        {
          "output_type": "execute_result",
          "data": {
            "text/plain": [
              "'**\\n\\n\\nThe Brothers Grimm, Jacob (1785-1863) and Wilhelm (1786-1859), were born\\nin Hanau, near Frankfurt, in the German state of Hesse. Throughout\\ntheir lives they remained close friends, and both studied law at Marburg\\nUniversity. Jacob was a pioneer in the study of German philology,\\nand although Wilhelm’s work was hampered by poor health the brothers\\ncollaborated in the creation of a German dictionary, not completed until\\na century after their deaths. But they were best (and universally) known\\nfor the collection of over two hundred folk tales they made from oral\\nsources and published in two volumes of ‘Nursery and Household Tales’ in\\n1812 and 1814. Although their intention was to preserve such material as\\npart of German cultural and literary history, and their collection was\\nfirst published with scholarly notes and no illustration, the tales soon\\ncame into the possession of young readers. This was in part due to Edgar\\nTaylor, who made the first English translation in 1823, selecting about\\nfifty stories ‘with the amusement of some young friends principally in\\nview.’ They have been an essential ingredient of children’s reading ever\\nsince.'"
            ],
            "application/vnd.google.colaboratory.intrinsic+json": {
              "type": "string"
            }
          },
          "metadata": {},
          "execution_count": 20
        }
      ],
      "source": [
        "text[520565:521719] #This part is author introduction, which should be cut from the input data"
      ]
    },
    {
      "cell_type": "code",
      "execution_count": 21,
      "metadata": {
        "id": "MkLYL7O3HzfJ"
      },
      "outputs": [],
      "source": [
        "text=text[2890:520564]"
      ]
    },
    {
      "cell_type": "code",
      "execution_count": 22,
      "metadata": {
        "colab": {
          "base_uri": "https://localhost:8080/"
        },
        "id": "2qu0GeRFHsBK",
        "outputId": "2f0904e5-97e5-4bfc-dd1f-021eb78822a0"
      },
      "outputs": [
        {
          "output_type": "stream",
          "name": "stdout",
          "text": [
            "data has 517674 characters, 74 unique.\n"
          ]
        }
      ],
      "source": [
        "train_dataset_gen = CharDataset(text, block_size) "
      ]
    },
    {
      "cell_type": "code",
      "execution_count": 23,
      "metadata": {
        "id": "j28w_BkjtqXN"
      },
      "outputs": [],
      "source": [
        "train_dataset = tf.data.Dataset.from_generator(train_dataset_gen,(tf.int32,tf.int32))"
      ]
    },
    {
      "cell_type": "code",
      "execution_count": 24,
      "metadata": {
        "id": "cLKzeZ1PttjO"
      },
      "outputs": [],
      "source": [
        "from mingpt.model import GPT, GPTConfig\n",
        "mconf = GPTConfig(train_dataset_gen.vocab_size, train_dataset_gen.block_size,\n",
        "                  n_layer=8, n_head=8, n_embd=512)"
      ]
    },
    {
      "cell_type": "code",
      "execution_count": 25,
      "metadata": {
        "id": "gjwA59Jpt5hH"
      },
      "outputs": [],
      "source": [
        "from mingpt.trainer import Trainer, TrainerConfig\n",
        "\n",
        "# initialize a trainer instance and kick off training\n",
        "tconf = TrainerConfig(max_epochs=300, batch_size=64, learning_rate=6e-4,\n",
        "                      lr_decay=True, warmup_tokens=512*20, final_tokens=200*len(train_dataset_gen)*block_size,\n",
        "                      num_workers=4)\n",
        "trainer = Trainer(GPT, mconf, train_dataset, len(train_dataset_gen), None, None, tconf)"
      ]
    },
    {
      "cell_type": "code",
      "execution_count": 26,
      "metadata": {
        "colab": {
          "base_uri": "https://localhost:8080/",
          "height": 1000
        },
        "id": "73gbBIN8usA4",
        "outputId": "43ba81d3-0c83-45e5-f59d-405772a29816"
      },
      "outputs": [
        {
          "output_type": "display_data",
          "data": {
            "text/plain": [
              "<IPython.core.display.HTML object>"
            ],
            "text/html": [
              ""
            ]
          },
          "metadata": {}
        },
        {
          "output_type": "stream",
          "name": "stdout",
          "text": [
            "epoch 1: train loss 355.85049. lr 5.999645e-04\n",
            "epoch 2: train loss 302.38544. lr 5.998549e-04\n",
            "epoch 3: train loss 288.33002. lr 5.996713e-04\n",
            "epoch 4: train loss 264.53198. lr 5.994138e-04\n",
            "epoch 5: train loss 244.00127. lr 5.990824e-04\n",
            "epoch 6: train loss 226.64413. lr 5.986771e-04\n",
            "epoch 7: train loss 213.81165. lr 5.981982e-04\n",
            "epoch 8: train loss 202.46840. lr 5.976457e-04\n",
            "epoch 9: train loss 193.41008. lr 5.970197e-04\n",
            "epoch 10: train loss 186.28934. lr 5.963204e-04\n",
            "epoch 11: train loss 179.58250. lr 5.955481e-04\n",
            "epoch 12: train loss 173.74802. lr 5.947027e-04\n",
            "epoch 13: train loss 168.90077. lr 5.937847e-04\n",
            "epoch 14: train loss 164.28537. lr 5.927941e-04\n",
            "epoch 15: train loss 160.74887. lr 5.917312e-04\n",
            "epoch 16: train loss 156.87894. lr 5.905964e-04\n",
            "epoch 17: train loss 153.98038. lr 5.893899e-04\n",
            "epoch 18: train loss 150.81343. lr 5.881119e-04\n",
            "epoch 19: train loss 147.66617. lr 5.867629e-04\n",
            "epoch 20: train loss 144.21683. lr 5.853430e-04\n",
            "epoch 21: train loss 141.89911. lr 5.838528e-04\n",
            "epoch 22: train loss 139.06425. lr 5.822926e-04\n",
            "epoch 23: train loss 137.24306. lr 5.806626e-04\n",
            "epoch 24: train loss 133.88667. lr 5.789634e-04\n",
            "epoch 25: train loss 132.36644. lr 5.771953e-04\n",
            "epoch 26: train loss 129.87267. lr 5.753589e-04\n",
            "epoch 27: train loss 127.79200. lr 5.734544e-04\n",
            "epoch 28: train loss 125.70988. lr 5.714825e-04\n",
            "epoch 29: train loss 123.09889. lr 5.694436e-04\n",
            "epoch 30: train loss 120.22511. lr 5.673382e-04\n",
            "epoch 31: train loss 118.03248. lr 5.651668e-04\n",
            "epoch 32: train loss 116.47211. lr 5.629300e-04\n",
            "epoch 33: train loss 113.20544. lr 5.606283e-04\n",
            "epoch 34: train loss 111.22355. lr 5.582623e-04\n",
            "epoch 35: train loss 108.89169. lr 5.558325e-04\n",
            "epoch 36: train loss 106.55740. lr 5.533397e-04\n",
            "epoch 37: train loss 104.82021. lr 5.507842e-04\n",
            "epoch 38: train loss 102.13390. lr 5.481669e-04\n",
            "epoch 39: train loss 99.34370. lr 5.454884e-04\n",
            "epoch 40: train loss 97.44000. lr 5.427492e-04\n",
            "epoch 41: train loss 94.93326. lr 5.399502e-04\n",
            "epoch 42: train loss 92.46461. lr 5.370920e-04\n",
            "epoch 43: train loss 90.02300. lr 5.341753e-04\n",
            "epoch 44: train loss 87.89792. lr 5.312007e-04\n",
            "epoch 45: train loss 86.21339. lr 5.281691e-04\n",
            "epoch 46: train loss 83.50070. lr 5.250812e-04\n",
            "epoch 47: train loss 81.54450. lr 5.219377e-04\n",
            "epoch 48: train loss 78.98596. lr 5.187395e-04\n",
            "epoch 49: train loss 76.97590. lr 5.154872e-04\n",
            "epoch 50: train loss 74.82752. lr 5.121818e-04\n",
            "epoch 51: train loss 72.55299. lr 5.088241e-04\n",
            "epoch 52: train loss 70.85365. lr 5.054148e-04\n",
            "epoch 53: train loss 68.82097. lr 5.019548e-04\n",
            "epoch 54: train loss 67.39738. lr 4.984450e-04\n",
            "epoch 55: train loss 65.71689. lr 4.948862e-04\n",
            "epoch 56: train loss 63.32106. lr 4.912793e-04\n",
            "epoch 57: train loss 62.22418. lr 4.876252e-04\n",
            "epoch 58: train loss 60.99517. lr 4.839248e-04\n",
            "epoch 59: train loss 58.53231. lr 4.801790e-04\n",
            "epoch 60: train loss 57.70870. lr 4.763888e-04\n",
            "epoch 61: train loss 56.33684. lr 4.725550e-04\n",
            "epoch 62: train loss 54.82657. lr 4.686786e-04\n",
            "epoch 63: train loss 53.62156. lr 4.647606e-04\n",
            "epoch 64: train loss 52.84982. lr 4.608020e-04\n",
            "epoch 65: train loss 50.75639. lr 4.568036e-04\n",
            "epoch 66: train loss 50.36203. lr 4.527666e-04\n",
            "epoch 67: train loss 48.91255. lr 4.486919e-04\n",
            "epoch 68: train loss 48.14123. lr 4.445805e-04\n",
            "epoch 69: train loss 47.34595. lr 4.404333e-04\n",
            "epoch 70: train loss 46.49530. lr 4.362515e-04\n",
            "epoch 71: train loss 45.34785. lr 4.320362e-04\n",
            "epoch 72: train loss 44.69356. lr 4.277882e-04\n",
            "epoch 73: train loss 44.15887. lr 4.235087e-04\n",
            "epoch 74: train loss 43.19170. lr 4.191987e-04\n",
            "epoch 75: train loss 42.47802. lr 4.148593e-04\n",
            "epoch 76: train loss 41.87950. lr 4.104915e-04\n",
            "epoch 77: train loss 41.32835. lr 4.060965e-04\n",
            "epoch 78: train loss 40.51103. lr 4.016753e-04\n",
            "epoch 79: train loss 39.93298. lr 3.972290e-04\n",
            "epoch 80: train loss 39.52523. lr 3.927587e-04\n",
            "epoch 81: train loss 39.08632. lr 3.882655e-04\n",
            "epoch 82: train loss 38.53811. lr 3.837506e-04\n",
            "epoch 83: train loss 38.11331. lr 3.792149e-04\n",
            "epoch 84: train loss 37.61708. lr 3.746598e-04\n",
            "epoch 85: train loss 37.26404. lr 3.700861e-04\n",
            "epoch 86: train loss 36.92461. lr 3.654952e-04\n",
            "epoch 87: train loss 36.37682. lr 3.608882e-04\n",
            "epoch 88: train loss 36.15828. lr 3.562661e-04\n",
            "epoch 89: train loss 35.76693. lr 3.516301e-04\n",
            "epoch 90: train loss 35.52697. lr 3.469814e-04\n",
            "epoch 91: train loss 35.04233. lr 3.423211e-04\n",
            "epoch 92: train loss 34.89155. lr 3.376503e-04\n",
            "epoch 93: train loss 34.00372. lr 3.329703e-04\n",
            "epoch 94: train loss 33.89414. lr 3.282821e-04\n",
            "epoch 95: train loss 33.73291. lr 3.235869e-04\n",
            "epoch 96: train loss 33.36803. lr 3.188859e-04\n",
            "epoch 97: train loss 33.39553. lr 3.141803e-04\n",
            "epoch 98: train loss 32.84254. lr 3.094711e-04\n",
            "epoch 99: train loss 32.82586. lr 3.047596e-04\n",
            "epoch 100: train loss 32.39309. lr 3.000470e-04\n",
            "epoch 101: train loss 32.30062. lr 2.953343e-04\n",
            "epoch 102: train loss 32.21009. lr 2.906228e-04\n",
            "epoch 103: train loss 31.55753. lr 2.859136e-04\n",
            "epoch 104: train loss 31.44764. lr 2.812078e-04\n",
            "epoch 105: train loss 31.20074. lr 2.765068e-04\n",
            "epoch 106: train loss 31.01542. lr 2.718115e-04\n",
            "epoch 107: train loss 31.18968. lr 2.671231e-04\n",
            "epoch 108: train loss 30.63210. lr 2.624429e-04\n",
            "epoch 109: train loss 30.45259. lr 2.577720e-04\n",
            "epoch 110: train loss 30.40160. lr 2.531114e-04\n",
            "epoch 111: train loss 30.24677. lr 2.484625e-04\n",
            "epoch 112: train loss 29.84308. lr 2.438262e-04\n",
            "epoch 113: train loss 29.91345. lr 2.392038e-04\n",
            "epoch 114: train loss 29.74995. lr 2.345965e-04\n",
            "epoch 115: train loss 29.56523. lr 2.300052e-04\n",
            "epoch 116: train loss 29.06641. lr 2.254313e-04\n",
            "epoch 117: train loss 29.12244. lr 2.208757e-04\n",
            "epoch 118: train loss 28.90742. lr 2.163397e-04\n",
            "epoch 119: train loss 29.00387. lr 2.118243e-04\n",
            "epoch 120: train loss 28.80689. lr 2.073306e-04\n",
            "epoch 121: train loss 28.33865. lr 2.028599e-04\n",
            "epoch 122: train loss 28.25607. lr 1.984131e-04\n",
            "epoch 123: train loss 28.29394. lr 1.939914e-04\n",
            "epoch 124: train loss 28.28508. lr 1.895958e-04\n",
            "epoch 125: train loss 27.99720. lr 1.852275e-04\n",
            "epoch 126: train loss 28.09604. lr 1.808875e-04\n",
            "epoch 127: train loss 27.90430. lr 1.765769e-04\n",
            "epoch 128: train loss 27.64984. lr 1.722968e-04\n",
            "epoch 129: train loss 27.55049. lr 1.680482e-04\n",
            "epoch 130: train loss 27.43017. lr 1.638322e-04\n",
            "epoch 131: train loss 27.37498. lr 1.596497e-04\n",
            "epoch 132: train loss 27.32739. lr 1.555019e-04\n",
            "epoch 133: train loss 27.11948. lr 1.513897e-04\n",
            "epoch 134: train loss 27.05470. lr 1.473143e-04\n",
            "epoch 135: train loss 26.86065. lr 1.432765e-04\n",
            "epoch 136: train loss 26.76450. lr 1.392773e-04\n",
            "epoch 137: train loss 26.84803. lr 1.353179e-04\n",
            "epoch 138: train loss 26.49458. lr 1.313991e-04\n",
            "epoch 139: train loss 26.54422. lr 1.275219e-04\n",
            "epoch 140: train loss 26.49291. lr 1.236872e-04\n",
            "epoch 141: train loss 26.32253. lr 1.198961e-04\n",
            "epoch 142: train loss 26.28426. lr 1.161494e-04\n",
            "epoch 143: train loss 26.20546. lr 1.124481e-04\n",
            "epoch 144: train loss 26.05110. lr 1.087931e-04\n",
            "epoch 145: train loss 25.95544. lr 1.051852e-04\n",
            "epoch 146: train loss 25.97171. lr 1.016255e-04\n",
            "epoch 147: train loss 25.77096. lr 9.811466e-05\n",
            "epoch 148: train loss 25.70664. lr 9.465367e-05\n",
            "epoch 149: train loss 25.51307. lr 9.124337e-05\n",
            "epoch 150: train loss 25.73250. lr 8.788457e-05\n",
            "epoch 151: train loss 25.54819. lr 8.457813e-05\n",
            "epoch 152: train loss 25.50966. lr 8.132485e-05\n",
            "epoch 153: train loss 25.25753. lr 7.812553e-05\n",
            "epoch 154: train loss 25.29865. lr 7.498097e-05\n",
            "epoch 155: train loss 25.12280. lr 7.189194e-05\n",
            "epoch 156: train loss 25.00644. lr 6.885920e-05\n",
            "epoch 157: train loss 24.89583. lr 6.588351e-05\n",
            "epoch 158: train loss 25.19205. lr 6.296559e-05\n",
            "epoch 159: train loss 24.72738. lr 6.010617e-05\n",
            "epoch 160: train loss 24.96051. lr 6.000000e-05\n",
            "epoch 161: train loss 24.84586. lr 6.000000e-05\n",
            "epoch 162: train loss 24.50624. lr 6.000000e-05\n",
            "epoch 163: train loss 24.69635. lr 6.000000e-05\n",
            "epoch 164: train loss 24.65680. lr 6.000000e-05\n",
            "epoch 165: train loss 24.58906. lr 6.000000e-05\n",
            "epoch 166: train loss 24.41577. lr 6.000000e-05\n",
            "epoch 167: train loss 24.46572. lr 6.000000e-05\n",
            "epoch 168: train loss 24.46105. lr 6.000000e-05\n",
            "epoch 169: train loss 24.34281. lr 6.000000e-05\n",
            "epoch 170: train loss 24.17143. lr 6.000000e-05\n",
            "epoch 171: train loss 24.25908. lr 6.000000e-05\n",
            "epoch 172: train loss 24.05854. lr 6.000000e-05\n",
            "epoch 173: train loss 24.10066. lr 6.000000e-05\n",
            "epoch 174: train loss 24.01417. lr 6.000000e-05\n",
            "epoch 175: train loss 24.07232. lr 6.000000e-05\n",
            "epoch 176: train loss 23.76099. lr 6.000000e-05\n",
            "epoch 177: train loss 23.70637. lr 6.000000e-05\n",
            "epoch 178: train loss 23.72334. lr 6.000000e-05\n",
            "epoch 179: train loss 23.73786. lr 6.000000e-05\n",
            "epoch 180: train loss 23.68845. lr 6.000000e-05\n",
            "epoch 181: train loss 23.70507. lr 6.000000e-05\n",
            "epoch 182: train loss 23.58401. lr 6.000000e-05\n",
            "epoch 183: train loss 23.59211. lr 6.000000e-05\n",
            "epoch 184: train loss 23.45754. lr 6.000000e-05\n",
            "epoch 185: train loss 23.47321. lr 6.000000e-05\n",
            "epoch 186: train loss 23.27170. lr 6.000000e-05\n",
            "epoch 187: train loss 23.24036. lr 6.000000e-05\n",
            "epoch 188: train loss 23.27478. lr 6.000000e-05\n",
            "epoch 189: train loss 23.22905. lr 6.000000e-05\n",
            "epoch 190: train loss 23.27896. lr 6.000000e-05\n",
            "epoch 191: train loss 23.18295. lr 6.000000e-05\n",
            "epoch 192: train loss 23.18489. lr 6.000000e-05\n",
            "epoch 193: train loss 23.02952. lr 6.000000e-05\n",
            "epoch 194: train loss 23.03997. lr 6.000000e-05\n",
            "epoch 195: train loss 23.04397. lr 6.000000e-05\n",
            "epoch 196: train loss 22.90442. lr 6.000000e-05\n",
            "epoch 197: train loss 22.96198. lr 6.000000e-05\n",
            "epoch 198: train loss 22.65283. lr 6.000000e-05\n",
            "epoch 199: train loss 22.77660. lr 6.000000e-05\n",
            "epoch 200: train loss 22.72249. lr 6.000000e-05\n"
          ]
        }
      ],
      "source": [
        "history=trainer.train()"
      ]
    },
    {
      "cell_type": "code",
      "execution_count": 27,
      "metadata": {
        "id": "y68wlKY2uyg2"
      },
      "outputs": [],
      "source": [
        "# alright, let's sample some character-level shakespear\n",
        "from mingpt.utils import sample\n"
      ]
    },
    {
      "cell_type": "code",
      "execution_count": null,
      "metadata": {
        "id": "d0P2f5n6KuIP"
      },
      "outputs": [],
      "source": [
        "context = \"Sir!\"\n",
        "x = tf.convert_to_tensor([train_dataset_gen.stoi[s] for s in context], dtype=tf.int32)[None,...]"
      ]
    },
    {
      "cell_type": "code",
      "execution_count": 28,
      "metadata": {
        "id": "6Xhzf2B_K1Ou",
        "colab": {
          "base_uri": "https://localhost:8080/"
        },
        "outputId": "330c7706-0734-42a5-81b8-f2cac3e14a04"
      },
      "outputs": [
        {
          "output_type": "stream",
          "name": "stdout",
          "text": [
            "Downloading data from https://www.gutenberg.org/files/52521/52521-0.txt\n",
            "524288/522843 [==============================] - 1s 1us/step\n",
            "532480/522843 [==============================] - 1s 1us/step\n"
          ]
        },
        {
          "output_type": "execute_result",
          "data": {
            "text/plain": [
              "44109"
            ]
          },
          "metadata": {},
          "execution_count": 28
        }
      ],
      "source": [
        "new_path= tf.keras.utils.get_file('Grimm2.txt', 'https://www.gutenberg.org/files/52521/52521-0.txt')\n",
        "test = open(new_path, 'r').read()\n",
        "test[6000:].find('THE STAR-MONEY')+6000"
      ]
    },
    {
      "cell_type": "markdown",
      "source": [
        "The word tensor of a prompt can be shown in this following example"
      ],
      "metadata": {
        "id": "QlOr53YChT4G"
      }
    },
    {
      "cell_type": "code",
      "source": [
        "tf.convert_to_tensor([train_dataset_gen.stoi[s] for s in 'And'], dtype=tf.int32)[None,...]\n"
      ],
      "metadata": {
        "colab": {
          "base_uri": "https://localhost:8080/"
        },
        "id": "rDl3b_1zhGCU",
        "outputId": "bf8c8633-9978-4c57-a295-6bc409e6578a"
      },
      "execution_count": 34,
      "outputs": [
        {
          "output_type": "execute_result",
          "data": {
            "text/plain": [
              "<tf.Tensor: shape=(1, 3), dtype=int32, numpy=array([[15, 57, 47]], dtype=int32)>"
            ]
          },
          "metadata": {},
          "execution_count": 34
        }
      ]
    },
    {
      "cell_type": "code",
      "execution_count": 31,
      "metadata": {
        "colab": {
          "base_uri": "https://localhost:8080/"
        },
        "id": "M1AMnmXjKoUt",
        "outputId": "74497c2b-d791-41a7-a6dc-c59b324aeb25"
      },
      "outputs": [
        {
          "output_type": "stream",
          "name": "stdout",
          "text": [
            "THE STAR-MONEY\n",
            "\n",
            "\n",
            "There was once on a time, a little girl whose father and mother were\n",
            "dead. She was so poor that she no longer had any little room to live\n",
            "in, or bed to sleep in. At last, she had nothing else but the clothes\n",
            "she was wearing and a little bit of bread in her hand which some\n",
            "charitable soul had given her. She was, however, good and pious.\n",
            "\n",
            "And as she was thus forsaken by all the world, she went forth into the\n",
            "open country, trusting in the good God.\n",
            "\n",
            "Then a poor man met her, who said, “Ah, give me something to eat, I am\n",
            "so hungry!”\n",
            "\n",
            "She reached him the whole of her piece of bread, and said, “May God\n",
            "bless it to your use,” and went onward.\n",
            "\n",
            "Then came a child who moaned and said, “My head is so cold, give me\n",
            "something to cover it with.”\n",
            "\n",
            "So she took off her hood and gave it to him.\n",
            "\n",
            "And when she had walked a little farther, she met another child who had\n",
            "no jacket and was frozen with cold. Then she gave it her own.\n",
            "\n",
            "A little farther on one begged for a frock, and she gave away that also.\n",
            "\n",
            "At length, she got into a forest and it had already become dark, and\n",
            "there came yet another child, and asked for a little shirt. The good\n",
            "little girl thought to herself, “It is a dark night and no one sees me.\n",
            "I can very well give my little shirt away,” and took it off, and gave\n",
            "away that also.\n",
            "\n",
            "And she so stood, and had not one single thing left. Then suddenly some\n",
            "Stars from heaven fell down, and they were nothing else but hard smooth\n",
            "pieces of money! And although she had just given her little shirt away,\n",
            "lo! she had a new one which was of the very finest linen.\n",
            "And thus she went roving on through the wide world, a\n"
          ]
        }
      ],
      "source": [
        "context = test[44109:45694]+'And'\n",
        "x = tf.convert_to_tensor([train_dataset_gen.stoi[s] for s in context], dtype=tf.int32)[None,...]\n",
        "y = sample(trainer.model, x, len(context)+30, temperature=0.6, sample=True, top_k=5)[0]\n",
        "completion = ''.join([train_dataset_gen.itos[int(i)] for i in y])\n",
        "print(completion[0:len(context)+50])"
      ]
    },
    {
      "cell_type": "code",
      "execution_count": 33,
      "metadata": {
        "id": "cM44DTjILjNo",
        "colab": {
          "base_uri": "https://localhost:8080/"
        },
        "outputId": "ee9ebd61-f0c7-403e-abc0-a7e575ad1ebf"
      },
      "outputs": [
        {
          "output_type": "stream",
          "name": "stdout",
          "text": [
            "And thus she went roving on through the wide world, and looked about and\n",
            "flew into the fields; the flie\n"
          ]
        }
      ],
      "source": [
        "print(completion[len(context)-3:len(context)+100])"
      ]
    }
  ],
  "metadata": {
    "accelerator": "GPU",
    "colab": {
      "collapsed_sections": [],
      "name": "Copy of play_char.ipynb",
      "provenance": []
    },
    "kernelspec": {
      "display_name": "Python 3",
      "language": "python",
      "name": "python3"
    },
    "language_info": {
      "codemirror_mode": {
        "name": "ipython",
        "version": 3
      },
      "file_extension": ".py",
      "mimetype": "text/x-python",
      "name": "python",
      "nbconvert_exporter": "python",
      "pygments_lexer": "ipython3",
      "version": "3.7.3"
    }
  },
  "nbformat": 4,
  "nbformat_minor": 0
}